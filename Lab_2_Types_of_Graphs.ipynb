{
  "nbformat": 4,
  "nbformat_minor": 0,
  "metadata": {
    "colab": {
      "name": "Lab 2 - Types of Graphs",
      "provenance": [],
      "collapsed_sections": [],
      "include_colab_link": true
    },
    "kernelspec": {
      "name": "python3",
      "display_name": "Python 3"
    }
  },
  "cells": [
    {
      "cell_type": "markdown",
      "metadata": {
        "id": "view-in-github",
        "colab_type": "text"
      },
      "source": [
        "<a href=\"https://colab.research.google.com/github/nhughes521/Lab-2-Types-of-Graphs/blob/master/Lab_2_Types_of_Graphs.ipynb\" target=\"_parent\"><img src=\"https://colab.research.google.com/assets/colab-badge.svg\" alt=\"Open In Colab\"/></a>"
      ]
    },
    {
      "cell_type": "markdown",
      "metadata": {
        "id": "6sOc4Uyr4U-Z",
        "colab_type": "text"
      },
      "source": [
        "## Graph Types"
      ]
    },
    {
      "cell_type": "markdown",
      "metadata": {
        "id": "0zZdVLAd5CYr",
        "colab_type": "text"
      },
      "source": [
        "Creator\n",
        "* Nick Hughes"
      ]
    },
    {
      "cell_type": "markdown",
      "metadata": {
        "id": "g-r6Clq45Hn4",
        "colab_type": "text"
      },
      "source": [
        "### Deviation\n"
      ]
    },
    {
      "cell_type": "markdown",
      "metadata": {
        "id": "fk67O9cs06wn",
        "colab_type": "text"
      },
      "source": [
        "![alt text](https://raw.githubusercontent.com/nhughes521/Lab-2-Types-of-Graphs/master/6A85C498-94EB-4DE1-9CD0-59A7D7097CA9.jpeg)"
      ]
    },
    {
      "cell_type": "markdown",
      "metadata": {
        "id": "w6bZ_NEi7E3w",
        "colab_type": "text"
      },
      "source": [
        "#### What is this telling us?"
      ]
    },
    {
      "cell_type": "markdown",
      "metadata": {
        "id": "95L-spaC7QHF",
        "colab_type": "text"
      },
      "source": [
        "This graph depicts the sum of points for winning teams on one side, and the sum of points for losing teams on the other side. I contrasted the colors so that it is clear which and that the origin of the graph can be easily seen. Using this graph we can identify the pattern of points scored each year. This is useful for identifying patterns and furher comparing the difference between total points scored. We can also use this graph to see the difference between the total score of losing teams versus the total score of winning teams by year. After looking at the graph, I was surprised how close each of the bars were in terms of length."
      ]
    },
    {
      "cell_type": "markdown",
      "metadata": {
        "id": "8fjX2Sxm2WcM",
        "colab_type": "text"
      },
      "source": [
        ""
      ]
    },
    {
      "cell_type": "markdown",
      "metadata": {
        "id": "YgXyXjmz7cDP",
        "colab_type": "text"
      },
      "source": [
        "### Correlation\n"
      ]
    },
    {
      "cell_type": "markdown",
      "metadata": {
        "id": "AmFWD_K61_fv",
        "colab_type": "text"
      },
      "source": [
        "![alt text](https://raw.githubusercontent.com/nhughes521/Lab-2-Types-of-Graphs/master/9977E02F-8B11-4B23-8793-4A7DEE0E70F5.jpeg)"
      ]
    },
    {
      "cell_type": "markdown",
      "metadata": {
        "id": "dljjONNi7jmj",
        "colab_type": "text"
      },
      "source": [
        "#### What is this telling us?"
      ]
    },
    {
      "cell_type": "markdown",
      "metadata": {
        "id": "PwZEZrFB7laG",
        "colab_type": "text"
      },
      "source": [
        "This graph depicts the pattern of points scored by winning teams per year. This type of graph allows for easier identifications of patterns in data. It is very easy to tell where the data changes as the line can slant and curve quite dramatically. The color for this graph wasn't as important as for others because the graph only contains a single line. For this data this graph is especially useful as we can identify any trends that may appear over the span of years that the graph depicts."
      ]
    },
    {
      "cell_type": "markdown",
      "metadata": {
        "id": "MqUdI-uL7r2s",
        "colab_type": "text"
      },
      "source": [
        "### Ranking\n"
      ]
    },
    {
      "cell_type": "markdown",
      "metadata": {
        "id": "ja3YLXIJ34UD",
        "colab_type": "text"
      },
      "source": [
        "![alt text](https://raw.githubusercontent.com/nhughes521/Lab-2-Types-of-Graphs/master/1DC0746C-5ABC-449A-9934-DED4B89FEA9F.jpeg)"
      ]
    },
    {
      "cell_type": "markdown",
      "metadata": {
        "id": "lCAYtfza7yTq",
        "colab_type": "text"
      },
      "source": [
        "#### What is this telling us?"
      ]
    },
    {
      "cell_type": "markdown",
      "metadata": {
        "id": "MyuciD277ygU",
        "colab_type": "text"
      },
      "source": [
        "This graph illustrates how many points each team scored as the winning team. I used an ordered bar chart so that it would be easy to differentiate between each team. Again, color wasn't as important here as each team is clearly labeled with their amount of points scored as a winning team. This graph also cleary shows the differences in total winning points scored between teams, allowing for easier analysis of the data."
      ]
    },
    {
      "cell_type": "markdown",
      "metadata": {
        "id": "dGDGl8-G7y8Y",
        "colab_type": "text"
      },
      "source": [
        "### Distribution\n"
      ]
    },
    {
      "cell_type": "markdown",
      "metadata": {
        "id": "XDF_WvIxGfqc",
        "colab_type": "text"
      },
      "source": [
        "![alt text](https://raw.githubusercontent.com/nhughes521/Lab-2-Types-of-Graphs/master/F1707522-6A2A-4843-AD53-BEF591F6004A.jpeg)"
      ]
    },
    {
      "cell_type": "markdown",
      "metadata": {
        "id": "_6SOzhrQ76zH",
        "colab_type": "text"
      },
      "source": [
        "#### What is this telling us?"
      ]
    },
    {
      "cell_type": "markdown",
      "metadata": {
        "id": "HBWqsS_g767h",
        "colab_type": "text"
      },
      "source": [
        "I used a box and whisker plot to illustrate the amount of losing points scored per year. For each year I used the losing teams name as a filter to provide each data point. The box and whisker plots represent each year individually. This graph also allows for outliers to be easily picked out as well. It also shows us how different each year is in terms of losing points scored. Since the plots make it easy to identify differences in the data, I was not concerned with adding color."
      ]
    },
    {
      "cell_type": "markdown",
      "metadata": {
        "id": "wQsDThk677Fy",
        "colab_type": "text"
      },
      "source": [
        "### Change over Time\n"
      ]
    },
    {
      "cell_type": "markdown",
      "metadata": {
        "id": "jXsBZE7z8oZC",
        "colab_type": "text"
      },
      "source": [
        "![alt text](https://raw.githubusercontent.com/nhughes521/Lab-2-Types-of-Graphs/master/53A8E8EC-7E7F-41A7-AD18-C7EF0418CC06.jpeg)"
      ]
    },
    {
      "cell_type": "markdown",
      "metadata": {
        "id": "mpfsmmgi7_Vj",
        "colab_type": "text"
      },
      "source": [
        "#### What is this telling us?"
      ]
    },
    {
      "cell_type": "markdown",
      "metadata": {
        "id": "rYLXoMMO7_di",
        "colab_type": "text"
      },
      "source": [
        "I used a connected line plot for this data. The data I used for this graph was the winning team names as well as the total amount of winning points that were scored. I used a connected line plot so that the dots would better reflect the position of the data point, versus the more approximate location of a regular line graph. Like the line graph, this plot makes it very easy to identify patterns and trends in the data. This type of graph would be useful for seeing which teams have scored the most points as a winning team."
      ]
    },
    {
      "cell_type": "markdown",
      "metadata": {
        "id": "lFwiHoE-7_jZ",
        "colab_type": "text"
      },
      "source": [
        "### Magnitude\n"
      ]
    },
    {
      "cell_type": "markdown",
      "metadata": {
        "id": "RATV_OCDA4-Y",
        "colab_type": "text"
      },
      "source": [
        "![alt text](https://raw.githubusercontent.com/nhughes521/Lab-2-Types-of-Graphs/master/9227BEBF-D7C3-4CFE-BA23-E0651A7C8D28.jpeg)"
      ]
    },
    {
      "cell_type": "markdown",
      "metadata": {
        "id": "QGG7XYG88Eii",
        "colab_type": "text"
      },
      "source": [
        "#### What is this telling us?"
      ]
    },
    {
      "cell_type": "markdown",
      "metadata": {
        "id": "VS7uGa0l8Eos",
        "colab_type": "text"
      },
      "source": [
        "For this data I decided to utilize a column graph. The data I used was total points scored by losing teams. Like the line graph patterns can be picked out from this type of graph, however the line graph (connected) is much more precise. This graph gives a good general idea of where each team is at in terms of points scored. It's easy to determine which teams have scored more as many of the data points are significantly greater than others."
      ]
    },
    {
      "cell_type": "markdown",
      "metadata": {
        "id": "bEKFxP8R8Evk",
        "colab_type": "text"
      },
      "source": [
        "### Part-to-Whole\n"
      ]
    },
    {
      "cell_type": "markdown",
      "metadata": {
        "id": "h6FyDjcvB19I",
        "colab_type": "text"
      },
      "source": [
        "![alt text](https://raw.githubusercontent.com/nhughes521/Lab-2-Types-of-Graphs/master/41647E6E-723D-4BEF-9124-BB4156983CDA.jpeg)"
      ]
    },
    {
      "cell_type": "markdown",
      "metadata": {
        "id": "PNSd3wlp8UZH",
        "colab_type": "text"
      },
      "source": [
        "#### What is this telling us?"
      ]
    },
    {
      "cell_type": "markdown",
      "metadata": {
        "id": "y9tb_QRA8aqt",
        "colab_type": "text"
      },
      "source": [
        "For a part to whole graph I chose to use a treemap. For the data points I used winning teams and how many total winning points were scored. This graph is good for both big and small picture. It's easy to see which team scored the most winning points as the biggest square contains the team name \"Wildcats\". This graph is extremely useful if you want to see how one piece of data stands in relation to the rest of the graph/data."
      ]
    }
  ]
}